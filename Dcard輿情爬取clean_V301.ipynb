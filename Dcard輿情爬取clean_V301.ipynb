{
  "nbformat": 4,
  "nbformat_minor": 0,
  "metadata": {
    "colab": {
      "name": "Dcard輿情爬取cleanV301 .ipynb",
      "provenance": [],
      "collapsed_sections": []
    },
    "kernelspec": {
      "name": "python3",
      "display_name": "Python 3"
    },
    "language_info": {
      "name": "python"
    }
  },
  "cells": [
    {
      "cell_type": "markdown",
      "metadata": {
        "id": "L189lBEoYuv9"
      },
      "source": [
        "參考資料: [第一階段爬取](https://tlyu0419.github.io/2019/04/06/Crawl-Dcard/)\n",
        "\n",
        "[API](https://blog.jiatool.com/posts/dcard_api_v2/) 附上\n",
        "\n",
        "預計觀察政治板(5篇)、金融版(5篇)及普通熱門(20篇)\n",
        "\n",
        "並取前10熱門留言進行用字分析\n",
        "\n",
        "金融部分之後希望可以連接台股\n",
        "\n",
        "政治與熱門的部分想要與PTT交疊在進行用字趨勢分析\n",
        "\n",
        "停用字詞來源:[Tomlin](https://github.com/tomlinNTUB/Python)\n",
        "\n"
      ]
    },
    {
      "cell_type": "code",
      "metadata": {
        "id": "35man3iyhLmR",
        "colab": {
          "base_uri": "https://localhost:8080/"
        },
        "outputId": "aff25c60-5ab0-4e0f-8e36-8bf2b2f16754"
      },
      "source": [
        "!pip install requests-html"
      ],
      "execution_count": null,
      "outputs": [
        {
          "output_type": "stream",
          "text": [
            "Collecting requests-html\n",
            "  Downloading https://files.pythonhosted.org/packages/24/bc/a4380f09bab3a776182578ce6b2771e57259d0d4dbce178205779abdc347/requests_html-0.10.0-py3-none-any.whl\n",
            "Collecting pyppeteer>=0.0.14\n",
            "\u001b[?25l  Downloading https://files.pythonhosted.org/packages/4a/05/ea3250282e46fda60df1f1d5246bb8cdc022abb89969c61a98ea28fd6b82/pyppeteer-0.2.5-py3-none-any.whl (87kB)\n",
            "\u001b[K     |████████████████████████████████| 92kB 2.7MB/s \n",
            "\u001b[?25hCollecting parse\n",
            "  Downloading https://files.pythonhosted.org/packages/89/a1/82ce536be577ba09d4dcee45db58423a180873ad38a2d014d26ab7b7cb8a/parse-1.19.0.tar.gz\n",
            "Requirement already satisfied: bs4 in /usr/local/lib/python3.7/dist-packages (from requests-html) (0.0.1)\n",
            "Collecting pyquery\n",
            "  Downloading https://files.pythonhosted.org/packages/58/0b/85d15e21f660a8ea68b1e0286168938857391f4ec9f6d204d91c9e013826/pyquery-1.4.3-py3-none-any.whl\n",
            "Collecting fake-useragent\n",
            "  Downloading https://files.pythonhosted.org/packages/d1/79/af647635d6968e2deb57a208d309f6069d31cb138066d7e821e575112a80/fake-useragent-0.1.11.tar.gz\n",
            "Collecting w3lib\n",
            "  Downloading https://files.pythonhosted.org/packages/a3/59/b6b14521090e7f42669cafdb84b0ab89301a42f1f1a82fcf5856661ea3a7/w3lib-1.22.0-py2.py3-none-any.whl\n",
            "Requirement already satisfied: requests in /usr/local/lib/python3.7/dist-packages (from requests-html) (2.23.0)\n",
            "Collecting pyee<9.0.0,>=8.1.0\n",
            "  Downloading https://files.pythonhosted.org/packages/0d/0a/933b3931107e1da186963fd9bb9bceb9a613cff034cb0fb3b0c61003f357/pyee-8.1.0-py2.py3-none-any.whl\n",
            "Collecting tqdm<5.0.0,>=4.42.1\n",
            "\u001b[?25l  Downloading https://files.pythonhosted.org/packages/72/8a/34efae5cf9924328a8f34eeb2fdaae14c011462d9f0e3fcded48e1266d1c/tqdm-4.60.0-py2.py3-none-any.whl (75kB)\n",
            "\u001b[K     |████████████████████████████████| 81kB 6.6MB/s \n",
            "\u001b[?25hCollecting importlib-metadata<3.0.0,>=2.1.1; python_version < \"3.8\"\n",
            "  Downloading https://files.pythonhosted.org/packages/98/b8/8ec57a8ef46fbe7f185318c7ff7df9a06c9df451d9a59a067bfa851bb828/importlib_metadata-2.1.1-py2.py3-none-any.whl\n",
            "Collecting websockets<9.0,>=8.1\n",
            "\u001b[?25l  Downloading https://files.pythonhosted.org/packages/5a/0b/3ebc752392a368af14dd24ee041683416ac6d2463eead94b311b11e41c82/websockets-8.1-cp37-cp37m-manylinux2010_x86_64.whl (79kB)\n",
            "\u001b[K     |████████████████████████████████| 81kB 6.8MB/s \n",
            "\u001b[?25hRequirement already satisfied: appdirs<2.0.0,>=1.4.3 in /usr/local/lib/python3.7/dist-packages (from pyppeteer>=0.0.14->requests-html) (1.4.4)\n",
            "Collecting urllib3<2.0.0,>=1.25.8\n",
            "\u001b[?25l  Downloading https://files.pythonhosted.org/packages/09/c6/d3e3abe5b4f4f16cf0dfc9240ab7ce10c2baa0e268989a4e3ec19e90c84e/urllib3-1.26.4-py2.py3-none-any.whl (153kB)\n",
            "\u001b[K     |████████████████████████████████| 153kB 19.8MB/s \n",
            "\u001b[?25hRequirement already satisfied: beautifulsoup4 in /usr/local/lib/python3.7/dist-packages (from bs4->requests-html) (4.6.3)\n",
            "Collecting cssselect>0.7.9\n",
            "  Downloading https://files.pythonhosted.org/packages/3b/d4/3b5c17f00cce85b9a1e6f91096e1cc8e8ede2e1be8e96b87ce1ed09e92c5/cssselect-1.1.0-py2.py3-none-any.whl\n",
            "Requirement already satisfied: lxml>=2.1 in /usr/local/lib/python3.7/dist-packages (from pyquery->requests-html) (4.2.6)\n",
            "Requirement already satisfied: six>=1.4.1 in /usr/local/lib/python3.7/dist-packages (from w3lib->requests-html) (1.15.0)\n",
            "Requirement already satisfied: idna<3,>=2.5 in /usr/local/lib/python3.7/dist-packages (from requests->requests-html) (2.10)\n",
            "Requirement already satisfied: certifi>=2017.4.17 in /usr/local/lib/python3.7/dist-packages (from requests->requests-html) (2020.12.5)\n",
            "Requirement already satisfied: chardet<4,>=3.0.2 in /usr/local/lib/python3.7/dist-packages (from requests->requests-html) (3.0.4)\n",
            "Requirement already satisfied: zipp>=0.5 in /usr/local/lib/python3.7/dist-packages (from importlib-metadata<3.0.0,>=2.1.1; python_version < \"3.8\"->pyppeteer>=0.0.14->requests-html) (3.4.1)\n",
            "Building wheels for collected packages: parse, fake-useragent\n",
            "  Building wheel for parse (setup.py) ... \u001b[?25l\u001b[?25hdone\n",
            "  Created wheel for parse: filename=parse-1.19.0-cp37-none-any.whl size=24581 sha256=c8c99b9aae44ef8d3d8bb781be48c6debc5ab7a162ad50701cd528dd6e2ac06e\n",
            "  Stored in directory: /root/.cache/pip/wheels/c0/39/ea/e2fd678bd130953f5438470b8dfa529f00787e9b8b92b27467\n",
            "  Building wheel for fake-useragent (setup.py) ... \u001b[?25l\u001b[?25hdone\n",
            "  Created wheel for fake-useragent: filename=fake_useragent-0.1.11-cp37-none-any.whl size=13485 sha256=b2466ab5fc84cc60e265cb6b752d460b803856e5d9227aed3befe049aa9310e9\n",
            "  Stored in directory: /root/.cache/pip/wheels/5e/63/09/d1dc15179f175357d3f5c00cbffbac37f9e8690d80545143ff\n",
            "Successfully built parse fake-useragent\n",
            "\u001b[31mERROR: requests 2.23.0 has requirement urllib3!=1.25.0,!=1.25.1,<1.26,>=1.21.1, but you'll have urllib3 1.26.4 which is incompatible.\u001b[0m\n",
            "\u001b[31mERROR: datascience 0.10.6 has requirement folium==0.2.1, but you'll have folium 0.8.3 which is incompatible.\u001b[0m\n",
            "Installing collected packages: pyee, tqdm, importlib-metadata, websockets, urllib3, pyppeteer, parse, cssselect, pyquery, fake-useragent, w3lib, requests-html\n",
            "  Found existing installation: tqdm 4.41.1\n",
            "    Uninstalling tqdm-4.41.1:\n",
            "      Successfully uninstalled tqdm-4.41.1\n",
            "  Found existing installation: importlib-metadata 4.0.1\n",
            "    Uninstalling importlib-metadata-4.0.1:\n",
            "      Successfully uninstalled importlib-metadata-4.0.1\n",
            "  Found existing installation: urllib3 1.24.3\n",
            "    Uninstalling urllib3-1.24.3:\n",
            "      Successfully uninstalled urllib3-1.24.3\n",
            "Successfully installed cssselect-1.1.0 fake-useragent-0.1.11 importlib-metadata-2.1.1 parse-1.19.0 pyee-8.1.0 pyppeteer-0.2.5 pyquery-1.4.3 requests-html-0.10.0 tqdm-4.60.0 urllib3-1.26.4 w3lib-1.22.0 websockets-8.1\n"
          ],
          "name": "stdout"
        }
      ]
    },
    {
      "cell_type": "code",
      "metadata": {
        "id": "fpkZgCGsYuPN",
        "colab": {
          "base_uri": "https://localhost:8080/",
          "height": 216
        },
        "outputId": "684c0ae9-f0de-4a82-99d5-3a60c4cdb598"
      },
      "source": [
        "import pandas as pd\n",
        "import requests\n",
        "from requests_html import HTML\n",
        "import re\n",
        "import json\n",
        "\n",
        "\n",
        "# 檢視資料結構\n",
        "ID = '235930353'\n",
        "url = 'https://www.dcard.tw/service/api/v2/posts/' + ID\n",
        "url2 = 'https://www.dcard.tw/service/api/v2/posts/' + str(ID) +'/comments?popular=true&limit=3'\n",
        "\n",
        "# 透過request套件抓下這個網址的資料\n",
        "\n",
        "# 初步檢視抓到的資料結構\n",
        "\n",
        "rejs = requests.get(url).json()\n",
        "rejs2 = requests.get(url2).json()\n",
        "pd.DataFrame(\n",
        "    data=\n",
        "    [{'ID':rejs['id'],\n",
        "      'title':rejs['title'],\n",
        "      'content':rejs['content'],\n",
        "      'excerpt':rejs['excerpt'],\n",
        "      'createdAt':rejs['createdAt'],\n",
        "      'updatedAt':rejs['updatedAt'],\n",
        "      'commentCount':rejs['commentCount'],\n",
        "      'forumName':rejs['forumName'],\n",
        "      'forumAlias':rejs['forumAlias'],\n",
        "      'gender':rejs['gender'],\n",
        "      'likeCount':rejs['likeCount'],\n",
        "      'reactions':rejs['reactions'],\n",
        "      'topics':rejs['topics'],\n",
        "      'comment1':rejs2[0]['content'],\n",
        "      'comment2':rejs2[1]['content'],\n",
        "      'comment3':rejs2[2]['content']}],\n",
        "      # 'comment4':rejs2[3]['content'],\n",
        "      # 'comment5':rejs2[4]['content']}],\n",
        "    columns=['ID','title','content','excerpt','createdAt','updatedAt','commentCount','forumName','forumAlias','gender','likeCount','reactions','topics','comment1','comment2','comment3'])#,'comment4','comment5'])"
      ],
      "execution_count": null,
      "outputs": [
        {
          "output_type": "stream",
          "text": [
            "/usr/local/lib/python3.7/dist-packages/requests/__init__.py:91: RequestsDependencyWarning: urllib3 (1.26.4) or chardet (3.0.4) doesn't match a supported version!\n",
            "  RequestsDependencyWarning)\n"
          ],
          "name": "stderr"
        },
        {
          "output_type": "execute_result",
          "data": {
            "text/html": [
              "<div>\n",
              "<style scoped>\n",
              "    .dataframe tbody tr th:only-of-type {\n",
              "        vertical-align: middle;\n",
              "    }\n",
              "\n",
              "    .dataframe tbody tr th {\n",
              "        vertical-align: top;\n",
              "    }\n",
              "\n",
              "    .dataframe thead th {\n",
              "        text-align: right;\n",
              "    }\n",
              "</style>\n",
              "<table border=\"1\" class=\"dataframe\">\n",
              "  <thead>\n",
              "    <tr style=\"text-align: right;\">\n",
              "      <th></th>\n",
              "      <th>ID</th>\n",
              "      <th>title</th>\n",
              "      <th>content</th>\n",
              "      <th>excerpt</th>\n",
              "      <th>createdAt</th>\n",
              "      <th>updatedAt</th>\n",
              "      <th>commentCount</th>\n",
              "      <th>forumName</th>\n",
              "      <th>forumAlias</th>\n",
              "      <th>gender</th>\n",
              "      <th>likeCount</th>\n",
              "      <th>reactions</th>\n",
              "      <th>topics</th>\n",
              "      <th>comment1</th>\n",
              "      <th>comment2</th>\n",
              "      <th>comment3</th>\n",
              "    </tr>\n",
              "  </thead>\n",
              "  <tbody>\n",
              "    <tr>\n",
              "      <th>0</th>\n",
              "      <td>235930353</td>\n",
              "      <td>兒童新樂園情侶新進展</td>\n",
              "      <td>大家還記得會在qtime 打炮還有在兒童新樂園做不雅動作上新聞的89情侶檔ㄇ🤩\\n如圖⬇️\\...</td>\n",
              "      <td>大家還記得會在qtime 打炮還有在兒童新樂園做不雅動作上新聞的89情侶檔ㄇ🤩，如圖⬇️，繼...</td>\n",
              "      <td>2021-05-07T01:33:59.319Z</td>\n",
              "      <td>2021-05-09T09:15:06.044Z</td>\n",
              "      <td>313</td>\n",
              "      <td>有趣</td>\n",
              "      <td>funny</td>\n",
              "      <td>F</td>\n",
              "      <td>3786</td>\n",
              "      <td>[{'id': '286f599c-f86a-4932-82f0-f5a06f1eca03'...</td>\n",
              "      <td>[情侶, 89, 網紅]</td>\n",
              "      <td>天啊！階級複製！！！\\n恭喜他們？請別放開彼此造福社會大眾\\n帶來歡樂用愛發電\\n話說放狠話...</td>\n",
              "      <td>剛剛才在想怎麼沒有人更新他們要生小孩的重大消息🥺🥺🥺⋯⋯</td>\n",
              "      <td>跳跳蛙情侶要生小蝌蚪ㄌ</td>\n",
              "    </tr>\n",
              "  </tbody>\n",
              "</table>\n",
              "</div>"
            ],
            "text/plain": [
              "          ID       title  ...                      comment2     comment3\n",
              "0  235930353  兒童新樂園情侶新進展  ...  剛剛才在想怎麼沒有人更新他們要生小孩的重大消息🥺🥺🥺⋯⋯  跳跳蛙情侶要生小蝌蚪ㄌ\n",
              "\n",
              "[1 rows x 16 columns]"
            ]
          },
          "metadata": {
            "tags": []
          },
          "execution_count": 2
        }
      ]
    },
    {
      "cell_type": "code",
      "metadata": {
        "colab": {
          "base_uri": "https://localhost:8080/"
        },
        "id": "qG_N_Xw8lgzw",
        "outputId": "4973d050-b669-475d-c20f-e0b86a5d61d8"
      },
      "source": [
        "from requests.exceptions import HTTPError\n",
        "def foo(url):\n",
        "    try:\n",
        "        r = requests.get(url)\n",
        "        print(\"[debug] json.loads(r.text): \", json.loads(r.text))\n",
        "        r.raise_for_status()\n",
        "    except HTTPError as err:\n",
        "        raise\n",
        "    return json.loads(r.text)\n",
        "foo(url)"
      ],
      "execution_count": null,
      "outputs": [
        {
          "output_type": "stream",
          "text": [
            "[debug] json.loads(r.text):  {'id': 235930353, 'title': '兒童新樂園情侶新進展', 'content': '大家還記得會在qtime 打炮還有在兒童新樂園做不雅動作上新聞的89情侶檔ㄇ🤩\\n如圖⬇️\\nhttps://i.imgur.com/sd8Rj8h.jpg\\n繼上次100天後開始分手吵架\\n男方昨天限時動態⬇️\\nhttps://i.imgur.com/7MYQgUZ.jpg\\n女方限時動態⬇️\\nhttps://i.imgur.com/j821BSo.jpg\\n當大家以為他們終於分手的時候\\n又跳出來澄清沒有分手\\n只是吵架啦！\\n到了今天\\nhttps://i.imgur.com/k80zJGm.jpg\\nhttps://i.imgur.com/0M0NFsV.jpg\\n等等...交往不到半年\\n分手吵架不知道幾百次\\n現在才剛分手完和好你跟我說你們想要生小孩？？\\n而且依照他們這個說法應該現在開始不會戴套了吧\\n(￣▽￣)\\n看來又有可憐的小孩要被生出來了🥺\\n而且大概87%生完之後會分手\\n最後小孩被出養或是被男方的院長爸爸養大\\n有夠可憐¯\\\\_(ツ)_/¯\\n還有什麼掛歡迎大家貼上來😍\\n———————————————————————\\n更新ㄍ\\n我們先懷孕後登記的準爸媽又分手啦🥰\\n到底在演哪齣呢\\nhttps://i.imgur.com/fq14MQH.jpg\\nhttps://i.imgur.com/TdRCxxp.jpg', 'excerpt': '大家還記得會在qtime 打炮還有在兒童新樂園做不雅動作上新聞的89情侶檔ㄇ🤩，如圖⬇️，繼上次100天後開始分手吵架，男方昨天限時動態⬇️，女方限時動態⬇️，當大家以為他們終於分手的時候，又跳出來澄清沒有', 'anonymousSchool': False, 'anonymousDepartment': True, 'pinned': False, 'forumId': 'a1aaa6e6-2594-4968-b7dc-e1b14bea96f4', 'replyId': None, 'createdAt': '2021-05-07T01:33:59.319Z', 'updatedAt': '2021-05-09T09:15:06.044Z', 'commentCount': 313, 'likeCount': 3786, 'tags': [], 'topics': ['情侶', '89', '網紅'], 'supportedReactions': None, 'withNickname': False, 'reportReason': '', 'hiddenByAuthor': False, 'meta': {'layout': 'classic'}, 'forumName': '有趣', 'forumAlias': 'funny', 'nsfw': False, 'school': '中山醫學大學', 'replyTitle': None, 'gender': 'F', 'personaSubscriptable': True, 'reactions': [{'id': '286f599c-f86a-4932-82f0-f5a06f1eca03', 'count': 3404}, {'id': 'e8e6bc5d-41b0-4129-b134-97507523d7ff', 'count': 300}, {'id': '4b018f48-e184-445f-adf1-fc8e04ba09b9', 'count': 57}, {'id': '514c2569-fd53-4d9d-a415-bf0f88e7329f', 'count': 13}, {'id': 'aa0d425f-d530-4478-9a77-fe3aedc79eea', 'count': 9}, {'id': '011ead16-9b83-4729-9fde-c588920c6c2d', 'count': 3}], 'hidden': False, 'customStyle': None, 'isSuspiciousAccount': False, 'isModerator': False, 'layout': 'classic', 'spoilerAlert': False, 'withImages': True, 'withVideos': False, 'media': [{'url': 'https://i.imgur.com/sd8Rj8h.jpg'}, {'url': 'https://i.imgur.com/7MYQgUZ.jpg'}, {'url': 'https://i.imgur.com/j821BSo.jpg'}, {'url': 'https://i.imgur.com/k80zJGm.jpg'}, {'url': 'https://i.imgur.com/0M0NFsV.jpg'}, {'url': 'https://i.imgur.com/fq14MQH.jpg'}, {'url': 'https://i.imgur.com/TdRCxxp.jpg'}], 'reportReasonText': '', 'mediaMeta': [{'id': '8f843428-5a8b-4d70-b8e0-427df3bda1cb', 'url': 'https://i.imgur.com/sd8Rj8hl.jpg', 'normalizedUrl': 'https://i.imgur.com/sd8Rj8hl.jpg', 'thumbnail': 'https://i.imgur.com/sd8Rj8hl.jpg', 'type': 'image/thumbnail', 'tags': ['ANNOTATED'], 'createdAt': '2021-05-07T01:33:59.319Z', 'updatedAt': '2021-05-09T09:15:06.044Z', 'width': 828, 'height': 1792, 'croppingWindow': {'anchorX': 0, 'anchorY': 165, 'width': 828, 'height': 496}}, {'id': '8f843428-5a8b-4d70-b8e0-427df3bda1cb', 'url': 'https://i.imgur.com/sd8Rj8h.jpg', 'normalizedUrl': 'https://imgur.com/sd8Rj8h', 'thumbnail': 'https://i.imgur.com/sd8Rj8hl.jpg', 'type': 'image/imgur', 'tags': ['ANNOTATED'], 'createdAt': '2021-05-07T01:33:59.319Z', 'updatedAt': '2021-05-09T09:15:06.044Z', 'width': 828, 'height': 1792, 'croppingWindow': {'anchorX': 0, 'anchorY': 165, 'width': 828, 'height': 496}}, {'id': '45047017-f0eb-4ca5-b396-c82b628b6497', 'url': 'https://i.imgur.com/7MYQgUZ.jpg', 'normalizedUrl': 'https://imgur.com/7MYQgUZ', 'thumbnail': 'https://i.imgur.com/7MYQgUZl.jpg', 'type': 'image/imgur', 'tags': ['ANNOTATED'], 'createdAt': '2021-05-07T01:33:59.319Z', 'updatedAt': '2021-05-09T09:15:06.044Z', 'width': 828, 'height': 1472}, {'id': 'c324e537-b80a-427b-8c09-0d25bac2a2d3', 'url': 'https://i.imgur.com/j821BSo.jpg', 'normalizedUrl': 'https://imgur.com/j821BSo', 'thumbnail': 'https://i.imgur.com/j821BSol.jpg', 'type': 'image/imgur', 'tags': ['ANNOTATED'], 'createdAt': '2021-05-07T01:33:59.319Z', 'updatedAt': '2021-05-09T09:15:06.044Z', 'width': 828, 'height': 1472}, {'id': 'c9f91e04-f5ae-4857-b3f6-62f5cd34a9f7', 'url': 'https://i.imgur.com/k80zJGm.jpg', 'normalizedUrl': 'https://imgur.com/k80zJGm', 'thumbnail': 'https://i.imgur.com/k80zJGml.jpg', 'type': 'image/imgur', 'tags': ['ANNOTATED'], 'createdAt': '2021-05-07T01:33:59.319Z', 'updatedAt': '2021-05-09T09:15:06.044Z', 'width': 828, 'height': 1472}, {'id': 'd6e0a96e-e048-45fb-8235-11469507c38d', 'url': 'https://i.imgur.com/0M0NFsV.jpg', 'normalizedUrl': 'https://imgur.com/0M0NFsV', 'thumbnail': 'https://i.imgur.com/0M0NFsVl.jpg', 'type': 'image/imgur', 'tags': ['ANNOTATED'], 'createdAt': '2021-05-07T01:33:59.319Z', 'updatedAt': '2021-05-09T09:15:06.044Z', 'width': 828, 'height': 1472}, {'id': '7de0fdb1-6789-435a-93fa-d7f90c91f247', 'url': 'https://i.imgur.com/fq14MQH.jpg', 'normalizedUrl': 'https://imgur.com/fq14MQH', 'thumbnail': 'https://i.imgur.com/fq14MQHl.jpg', 'type': 'image/imgur', 'tags': [], 'createdAt': '2021-05-09T09:15:06.044Z', 'updatedAt': '2021-05-09T09:15:06.044Z', 'width': 828, 'height': 1472}, {'id': '9f4bdf53-0309-4a4f-93b3-1af9f599986e', 'url': 'https://i.imgur.com/TdRCxxp.jpg', 'normalizedUrl': 'https://imgur.com/TdRCxxp', 'thumbnail': 'https://i.imgur.com/TdRCxxpl.jpg', 'type': 'image/imgur', 'tags': [], 'createdAt': '2021-05-09T09:15:06.044Z', 'updatedAt': '2021-05-09T09:15:06.044Z', 'width': 828, 'height': 1472}], 'excerptComments': [], 'postAvatar': '', 'verifiedBadge': False, 'memberType': ''}\n"
          ],
          "name": "stdout"
        },
        {
          "output_type": "execute_result",
          "data": {
            "text/plain": [
              "{'anonymousDepartment': True,\n",
              " 'anonymousSchool': False,\n",
              " 'commentCount': 313,\n",
              " 'content': '大家還記得會在qtime 打炮還有在兒童新樂園做不雅動作上新聞的89情侶檔ㄇ🤩\\n如圖⬇️\\nhttps://i.imgur.com/sd8Rj8h.jpg\\n繼上次100天後開始分手吵架\\n男方昨天限時動態⬇️\\nhttps://i.imgur.com/7MYQgUZ.jpg\\n女方限時動態⬇️\\nhttps://i.imgur.com/j821BSo.jpg\\n當大家以為他們終於分手的時候\\n又跳出來澄清沒有分手\\n只是吵架啦！\\n到了今天\\nhttps://i.imgur.com/k80zJGm.jpg\\nhttps://i.imgur.com/0M0NFsV.jpg\\n等等...交往不到半年\\n分手吵架不知道幾百次\\n現在才剛分手完和好你跟我說你們想要生小孩？？\\n而且依照他們這個說法應該現在開始不會戴套了吧\\n(￣▽￣)\\n看來又有可憐的小孩要被生出來了🥺\\n而且大概87%生完之後會分手\\n最後小孩被出養或是被男方的院長爸爸養大\\n有夠可憐¯\\\\_(ツ)_/¯\\n還有什麼掛歡迎大家貼上來😍\\n———————————————————————\\n更新ㄍ\\n我們先懷孕後登記的準爸媽又分手啦🥰\\n到底在演哪齣呢\\nhttps://i.imgur.com/fq14MQH.jpg\\nhttps://i.imgur.com/TdRCxxp.jpg',\n",
              " 'createdAt': '2021-05-07T01:33:59.319Z',\n",
              " 'customStyle': None,\n",
              " 'excerpt': '大家還記得會在qtime 打炮還有在兒童新樂園做不雅動作上新聞的89情侶檔ㄇ🤩，如圖⬇️，繼上次100天後開始分手吵架，男方昨天限時動態⬇️，女方限時動態⬇️，當大家以為他們終於分手的時候，又跳出來澄清沒有',\n",
              " 'excerptComments': [],\n",
              " 'forumAlias': 'funny',\n",
              " 'forumId': 'a1aaa6e6-2594-4968-b7dc-e1b14bea96f4',\n",
              " 'forumName': '有趣',\n",
              " 'gender': 'F',\n",
              " 'hidden': False,\n",
              " 'hiddenByAuthor': False,\n",
              " 'id': 235930353,\n",
              " 'isModerator': False,\n",
              " 'isSuspiciousAccount': False,\n",
              " 'layout': 'classic',\n",
              " 'likeCount': 3786,\n",
              " 'media': [{'url': 'https://i.imgur.com/sd8Rj8h.jpg'},\n",
              "  {'url': 'https://i.imgur.com/7MYQgUZ.jpg'},\n",
              "  {'url': 'https://i.imgur.com/j821BSo.jpg'},\n",
              "  {'url': 'https://i.imgur.com/k80zJGm.jpg'},\n",
              "  {'url': 'https://i.imgur.com/0M0NFsV.jpg'},\n",
              "  {'url': 'https://i.imgur.com/fq14MQH.jpg'},\n",
              "  {'url': 'https://i.imgur.com/TdRCxxp.jpg'}],\n",
              " 'mediaMeta': [{'createdAt': '2021-05-07T01:33:59.319Z',\n",
              "   'croppingWindow': {'anchorX': 0,\n",
              "    'anchorY': 165,\n",
              "    'height': 496,\n",
              "    'width': 828},\n",
              "   'height': 1792,\n",
              "   'id': '8f843428-5a8b-4d70-b8e0-427df3bda1cb',\n",
              "   'normalizedUrl': 'https://i.imgur.com/sd8Rj8hl.jpg',\n",
              "   'tags': ['ANNOTATED'],\n",
              "   'thumbnail': 'https://i.imgur.com/sd8Rj8hl.jpg',\n",
              "   'type': 'image/thumbnail',\n",
              "   'updatedAt': '2021-05-09T09:15:06.044Z',\n",
              "   'url': 'https://i.imgur.com/sd8Rj8hl.jpg',\n",
              "   'width': 828},\n",
              "  {'createdAt': '2021-05-07T01:33:59.319Z',\n",
              "   'croppingWindow': {'anchorX': 0,\n",
              "    'anchorY': 165,\n",
              "    'height': 496,\n",
              "    'width': 828},\n",
              "   'height': 1792,\n",
              "   'id': '8f843428-5a8b-4d70-b8e0-427df3bda1cb',\n",
              "   'normalizedUrl': 'https://imgur.com/sd8Rj8h',\n",
              "   'tags': ['ANNOTATED'],\n",
              "   'thumbnail': 'https://i.imgur.com/sd8Rj8hl.jpg',\n",
              "   'type': 'image/imgur',\n",
              "   'updatedAt': '2021-05-09T09:15:06.044Z',\n",
              "   'url': 'https://i.imgur.com/sd8Rj8h.jpg',\n",
              "   'width': 828},\n",
              "  {'createdAt': '2021-05-07T01:33:59.319Z',\n",
              "   'height': 1472,\n",
              "   'id': '45047017-f0eb-4ca5-b396-c82b628b6497',\n",
              "   'normalizedUrl': 'https://imgur.com/7MYQgUZ',\n",
              "   'tags': ['ANNOTATED'],\n",
              "   'thumbnail': 'https://i.imgur.com/7MYQgUZl.jpg',\n",
              "   'type': 'image/imgur',\n",
              "   'updatedAt': '2021-05-09T09:15:06.044Z',\n",
              "   'url': 'https://i.imgur.com/7MYQgUZ.jpg',\n",
              "   'width': 828},\n",
              "  {'createdAt': '2021-05-07T01:33:59.319Z',\n",
              "   'height': 1472,\n",
              "   'id': 'c324e537-b80a-427b-8c09-0d25bac2a2d3',\n",
              "   'normalizedUrl': 'https://imgur.com/j821BSo',\n",
              "   'tags': ['ANNOTATED'],\n",
              "   'thumbnail': 'https://i.imgur.com/j821BSol.jpg',\n",
              "   'type': 'image/imgur',\n",
              "   'updatedAt': '2021-05-09T09:15:06.044Z',\n",
              "   'url': 'https://i.imgur.com/j821BSo.jpg',\n",
              "   'width': 828},\n",
              "  {'createdAt': '2021-05-07T01:33:59.319Z',\n",
              "   'height': 1472,\n",
              "   'id': 'c9f91e04-f5ae-4857-b3f6-62f5cd34a9f7',\n",
              "   'normalizedUrl': 'https://imgur.com/k80zJGm',\n",
              "   'tags': ['ANNOTATED'],\n",
              "   'thumbnail': 'https://i.imgur.com/k80zJGml.jpg',\n",
              "   'type': 'image/imgur',\n",
              "   'updatedAt': '2021-05-09T09:15:06.044Z',\n",
              "   'url': 'https://i.imgur.com/k80zJGm.jpg',\n",
              "   'width': 828},\n",
              "  {'createdAt': '2021-05-07T01:33:59.319Z',\n",
              "   'height': 1472,\n",
              "   'id': 'd6e0a96e-e048-45fb-8235-11469507c38d',\n",
              "   'normalizedUrl': 'https://imgur.com/0M0NFsV',\n",
              "   'tags': ['ANNOTATED'],\n",
              "   'thumbnail': 'https://i.imgur.com/0M0NFsVl.jpg',\n",
              "   'type': 'image/imgur',\n",
              "   'updatedAt': '2021-05-09T09:15:06.044Z',\n",
              "   'url': 'https://i.imgur.com/0M0NFsV.jpg',\n",
              "   'width': 828},\n",
              "  {'createdAt': '2021-05-09T09:15:06.044Z',\n",
              "   'height': 1472,\n",
              "   'id': '7de0fdb1-6789-435a-93fa-d7f90c91f247',\n",
              "   'normalizedUrl': 'https://imgur.com/fq14MQH',\n",
              "   'tags': [],\n",
              "   'thumbnail': 'https://i.imgur.com/fq14MQHl.jpg',\n",
              "   'type': 'image/imgur',\n",
              "   'updatedAt': '2021-05-09T09:15:06.044Z',\n",
              "   'url': 'https://i.imgur.com/fq14MQH.jpg',\n",
              "   'width': 828},\n",
              "  {'createdAt': '2021-05-09T09:15:06.044Z',\n",
              "   'height': 1472,\n",
              "   'id': '9f4bdf53-0309-4a4f-93b3-1af9f599986e',\n",
              "   'normalizedUrl': 'https://imgur.com/TdRCxxp',\n",
              "   'tags': [],\n",
              "   'thumbnail': 'https://i.imgur.com/TdRCxxpl.jpg',\n",
              "   'type': 'image/imgur',\n",
              "   'updatedAt': '2021-05-09T09:15:06.044Z',\n",
              "   'url': 'https://i.imgur.com/TdRCxxp.jpg',\n",
              "   'width': 828}],\n",
              " 'memberType': '',\n",
              " 'meta': {'layout': 'classic'},\n",
              " 'nsfw': False,\n",
              " 'personaSubscriptable': True,\n",
              " 'pinned': False,\n",
              " 'postAvatar': '',\n",
              " 'reactions': [{'count': 3404, 'id': '286f599c-f86a-4932-82f0-f5a06f1eca03'},\n",
              "  {'count': 300, 'id': 'e8e6bc5d-41b0-4129-b134-97507523d7ff'},\n",
              "  {'count': 57, 'id': '4b018f48-e184-445f-adf1-fc8e04ba09b9'},\n",
              "  {'count': 13, 'id': '514c2569-fd53-4d9d-a415-bf0f88e7329f'},\n",
              "  {'count': 9, 'id': 'aa0d425f-d530-4478-9a77-fe3aedc79eea'},\n",
              "  {'count': 3, 'id': '011ead16-9b83-4729-9fde-c588920c6c2d'}],\n",
              " 'replyId': None,\n",
              " 'replyTitle': None,\n",
              " 'reportReason': '',\n",
              " 'reportReasonText': '',\n",
              " 'school': '中山醫學大學',\n",
              " 'spoilerAlert': False,\n",
              " 'supportedReactions': None,\n",
              " 'tags': [],\n",
              " 'title': '兒童新樂園情侶新進展',\n",
              " 'topics': ['情侶', '89', '網紅'],\n",
              " 'updatedAt': '2021-05-09T09:15:06.044Z',\n",
              " 'verifiedBadge': False,\n",
              " 'withImages': True,\n",
              " 'withNickname': False,\n",
              " 'withVideos': False}"
            ]
          },
          "metadata": {
            "tags": []
          },
          "execution_count": 3
        }
      ]
    },
    {
      "cell_type": "code",
      "metadata": {
        "id": "nkbbvFjXg2-3",
        "colab": {
          "base_uri": "https://localhost:8080/",
          "height": 359
        },
        "outputId": "3810767b-2f52-47cd-e03b-8cecccd8475c"
      },
      "source": [
        "# 撰寫簡單的函數，透過輸入文章ID，就輸出文章的資料\n",
        "def Dcard_Crawl(ID):\n",
        "    content_link = 'https://www.dcard.tw/service/api/v2/posts/' + str(ID)\n",
        "    comment_link = 'https://www.dcard.tw/service/api/v2/posts/' + str(ID) +'/comments?popular=true&limit=3'\n",
        "    rejs = requests.get(content_link).json()\n",
        "    rejs2 = requests.get(comment_link).json()\n",
        "    return(pd.DataFrame(\n",
        "        data=\n",
        "        [{'ID':rejs['id'],\n",
        "          'title':rejs['title'],\n",
        "          'content':rejs['content'],\n",
        "          'excerpt':rejs['excerpt'],\n",
        "          'createdAt':rejs['createdAt'],\n",
        "          'updatedAt':rejs['updatedAt'],\n",
        "          'commentCount':rejs['commentCount'],\n",
        "          'forumName':rejs['forumName'],\n",
        "          'forumAlias':rejs['forumAlias'],\n",
        "          'gender':rejs['gender'],\n",
        "          'likeCount':rejs['likeCount'],\n",
        "          'reactions':rejs['reactions'],\n",
        "          'topics':rejs['topics']}],\n",
        "          # 'comment1':rejs2[0]['content']}],\n",
        "          # 'comment2':rejs2[1]['content']}],\n",
        "          # 'comment3':rejs2[2]['content']}],\n",
        "        columns=['ID','title','content','excerpt','createdAt','updatedAt',\n",
        "                 'commentCount','forumName','forumAlias','gender',\n",
        "                 'likeCount','reactions','topics','comment1',\n",
        "                 'comment2']))#,'comment3'\n",
        "\n",
        "\n",
        "# 嘗試使用撰寫出的函數，抓取編號231030181的文章\n",
        "# Dcard_Crawl(231030181)\n",
        "\n",
        "# 一次讀取100篇最熱門的文章\n",
        "url = 'https://www.dcard.tw/_api/posts?popular=true&limit=100'\n",
        "resq = requests.get(url)\n",
        "rejs = resq.json()\n",
        "df = pd.DataFrame()\n",
        "for i in range(len(rejs)):\n",
        "    df = df.append(Dcard_Crawl(rejs[i]['id']),ignore_index=True)\n",
        "print(df.shape)\n",
        "df\n",
        "\n",
        "\n",
        "\n",
        "# def Dcard_Popular_Crawl(x):\n",
        "#   url = 'https://www.dcard.tw/_api/posts?popular=true&limit='+str(x)\n",
        "#   resq = requests.get(url)\n",
        "#   rejs = resq.json()\n",
        "#   df = pd.DataFrame()\n",
        "#   for i in range(len(rejs)):\n",
        "#       df = df.append(Dcard_Crawl(rejs[i]['id']),ignore_index=True)\n",
        "#   print(df.shape)\n",
        "#   return df\n",
        "# df=Dcard_Popular_Crawl(10)\n",
        "# df\n",
        "\n",
        "# 透過迴圈讀取10*100篇文章，若需讀取更多資料，可以將range(10)中的數值提升\n",
        "# for j in range(10):\n",
        "#     last = str(int(df.tail(1).ID)) # 找出爬出資料的最後一筆ID\n",
        "#     url = 'https://www.dcard.tw/_api/posts?popular=true&limit=100&before=' + last\n",
        "#     resq = requests.get(url)\n",
        "#     rejs = resq.json()\n",
        "#     for i in range(len(rejs)):\n",
        "#         df = df.append(Crawl(rejs[i]['id']), ignore_index=True)\n",
        "# print(df.shape)\n",
        "# df\n",
        "\n",
        "# 將資料存到桌面\n",
        "# df.to_excel('Dcard.csv')"
      ],
      "execution_count": null,
      "outputs": [
        {
          "output_type": "error",
          "ename": "JSONDecodeError",
          "evalue": "ignored",
          "traceback": [
            "\u001b[0;31m---------------------------------------------------------------------------\u001b[0m",
            "\u001b[0;31mJSONDecodeError\u001b[0m                           Traceback (most recent call last)",
            "\u001b[0;32m<ipython-input-10-9222d4b38faa>\u001b[0m in \u001b[0;36m<module>\u001b[0;34m()\u001b[0m\n\u001b[1;32m     35\u001b[0m \u001b[0murl\u001b[0m \u001b[0;34m=\u001b[0m \u001b[0;34m'https://www.dcard.tw/_api/posts?popular=true&limit=100'\u001b[0m\u001b[0;34m\u001b[0m\u001b[0;34m\u001b[0m\u001b[0m\n\u001b[1;32m     36\u001b[0m \u001b[0mresq\u001b[0m \u001b[0;34m=\u001b[0m \u001b[0mrequests\u001b[0m\u001b[0;34m.\u001b[0m\u001b[0mget\u001b[0m\u001b[0;34m(\u001b[0m\u001b[0murl\u001b[0m\u001b[0;34m)\u001b[0m\u001b[0;34m\u001b[0m\u001b[0;34m\u001b[0m\u001b[0m\n\u001b[0;32m---> 37\u001b[0;31m \u001b[0mrejs\u001b[0m \u001b[0;34m=\u001b[0m \u001b[0mresq\u001b[0m\u001b[0;34m.\u001b[0m\u001b[0mjson\u001b[0m\u001b[0;34m(\u001b[0m\u001b[0;34m)\u001b[0m\u001b[0;34m\u001b[0m\u001b[0;34m\u001b[0m\u001b[0m\n\u001b[0m\u001b[1;32m     38\u001b[0m \u001b[0mdf\u001b[0m \u001b[0;34m=\u001b[0m \u001b[0mpd\u001b[0m\u001b[0;34m.\u001b[0m\u001b[0mDataFrame\u001b[0m\u001b[0;34m(\u001b[0m\u001b[0;34m)\u001b[0m\u001b[0;34m\u001b[0m\u001b[0;34m\u001b[0m\u001b[0m\n\u001b[1;32m     39\u001b[0m \u001b[0;32mfor\u001b[0m \u001b[0mi\u001b[0m \u001b[0;32min\u001b[0m \u001b[0mrange\u001b[0m\u001b[0;34m(\u001b[0m\u001b[0mlen\u001b[0m\u001b[0;34m(\u001b[0m\u001b[0mrejs\u001b[0m\u001b[0;34m)\u001b[0m\u001b[0;34m)\u001b[0m\u001b[0;34m:\u001b[0m\u001b[0;34m\u001b[0m\u001b[0;34m\u001b[0m\u001b[0m\n",
            "\u001b[0;32m/usr/local/lib/python3.7/dist-packages/requests/models.py\u001b[0m in \u001b[0;36mjson\u001b[0;34m(self, **kwargs)\u001b[0m\n\u001b[1;32m    896\u001b[0m                     \u001b[0;31m# used.\u001b[0m\u001b[0;34m\u001b[0m\u001b[0;34m\u001b[0m\u001b[0;34m\u001b[0m\u001b[0m\n\u001b[1;32m    897\u001b[0m                     \u001b[0;32mpass\u001b[0m\u001b[0;34m\u001b[0m\u001b[0;34m\u001b[0m\u001b[0m\n\u001b[0;32m--> 898\u001b[0;31m         \u001b[0;32mreturn\u001b[0m \u001b[0mcomplexjson\u001b[0m\u001b[0;34m.\u001b[0m\u001b[0mloads\u001b[0m\u001b[0;34m(\u001b[0m\u001b[0mself\u001b[0m\u001b[0;34m.\u001b[0m\u001b[0mtext\u001b[0m\u001b[0;34m,\u001b[0m \u001b[0;34m**\u001b[0m\u001b[0mkwargs\u001b[0m\u001b[0;34m)\u001b[0m\u001b[0;34m\u001b[0m\u001b[0;34m\u001b[0m\u001b[0m\n\u001b[0m\u001b[1;32m    899\u001b[0m \u001b[0;34m\u001b[0m\u001b[0m\n\u001b[1;32m    900\u001b[0m     \u001b[0;34m@\u001b[0m\u001b[0mproperty\u001b[0m\u001b[0;34m\u001b[0m\u001b[0;34m\u001b[0m\u001b[0m\n",
            "\u001b[0;32m/usr/lib/python3.7/json/__init__.py\u001b[0m in \u001b[0;36mloads\u001b[0;34m(s, encoding, cls, object_hook, parse_float, parse_int, parse_constant, object_pairs_hook, **kw)\u001b[0m\n\u001b[1;32m    346\u001b[0m             \u001b[0mparse_int\u001b[0m \u001b[0;32mis\u001b[0m \u001b[0;32mNone\u001b[0m \u001b[0;32mand\u001b[0m \u001b[0mparse_float\u001b[0m \u001b[0;32mis\u001b[0m \u001b[0;32mNone\u001b[0m \u001b[0;32mand\u001b[0m\u001b[0;34m\u001b[0m\u001b[0;34m\u001b[0m\u001b[0m\n\u001b[1;32m    347\u001b[0m             parse_constant is None and object_pairs_hook is None and not kw):\n\u001b[0;32m--> 348\u001b[0;31m         \u001b[0;32mreturn\u001b[0m \u001b[0m_default_decoder\u001b[0m\u001b[0;34m.\u001b[0m\u001b[0mdecode\u001b[0m\u001b[0;34m(\u001b[0m\u001b[0ms\u001b[0m\u001b[0;34m)\u001b[0m\u001b[0;34m\u001b[0m\u001b[0;34m\u001b[0m\u001b[0m\n\u001b[0m\u001b[1;32m    349\u001b[0m     \u001b[0;32mif\u001b[0m \u001b[0mcls\u001b[0m \u001b[0;32mis\u001b[0m \u001b[0;32mNone\u001b[0m\u001b[0;34m:\u001b[0m\u001b[0;34m\u001b[0m\u001b[0;34m\u001b[0m\u001b[0m\n\u001b[1;32m    350\u001b[0m         \u001b[0mcls\u001b[0m \u001b[0;34m=\u001b[0m \u001b[0mJSONDecoder\u001b[0m\u001b[0;34m\u001b[0m\u001b[0;34m\u001b[0m\u001b[0m\n",
            "\u001b[0;32m/usr/lib/python3.7/json/decoder.py\u001b[0m in \u001b[0;36mdecode\u001b[0;34m(self, s, _w)\u001b[0m\n\u001b[1;32m    335\u001b[0m \u001b[0;34m\u001b[0m\u001b[0m\n\u001b[1;32m    336\u001b[0m         \"\"\"\n\u001b[0;32m--> 337\u001b[0;31m         \u001b[0mobj\u001b[0m\u001b[0;34m,\u001b[0m \u001b[0mend\u001b[0m \u001b[0;34m=\u001b[0m \u001b[0mself\u001b[0m\u001b[0;34m.\u001b[0m\u001b[0mraw_decode\u001b[0m\u001b[0;34m(\u001b[0m\u001b[0ms\u001b[0m\u001b[0;34m,\u001b[0m \u001b[0midx\u001b[0m\u001b[0;34m=\u001b[0m\u001b[0m_w\u001b[0m\u001b[0;34m(\u001b[0m\u001b[0ms\u001b[0m\u001b[0;34m,\u001b[0m \u001b[0;36m0\u001b[0m\u001b[0;34m)\u001b[0m\u001b[0;34m.\u001b[0m\u001b[0mend\u001b[0m\u001b[0;34m(\u001b[0m\u001b[0;34m)\u001b[0m\u001b[0;34m)\u001b[0m\u001b[0;34m\u001b[0m\u001b[0;34m\u001b[0m\u001b[0m\n\u001b[0m\u001b[1;32m    338\u001b[0m         \u001b[0mend\u001b[0m \u001b[0;34m=\u001b[0m \u001b[0m_w\u001b[0m\u001b[0;34m(\u001b[0m\u001b[0ms\u001b[0m\u001b[0;34m,\u001b[0m \u001b[0mend\u001b[0m\u001b[0;34m)\u001b[0m\u001b[0;34m.\u001b[0m\u001b[0mend\u001b[0m\u001b[0;34m(\u001b[0m\u001b[0;34m)\u001b[0m\u001b[0;34m\u001b[0m\u001b[0;34m\u001b[0m\u001b[0m\n\u001b[1;32m    339\u001b[0m         \u001b[0;32mif\u001b[0m \u001b[0mend\u001b[0m \u001b[0;34m!=\u001b[0m \u001b[0mlen\u001b[0m\u001b[0;34m(\u001b[0m\u001b[0ms\u001b[0m\u001b[0;34m)\u001b[0m\u001b[0;34m:\u001b[0m\u001b[0;34m\u001b[0m\u001b[0;34m\u001b[0m\u001b[0m\n",
            "\u001b[0;32m/usr/lib/python3.7/json/decoder.py\u001b[0m in \u001b[0;36mraw_decode\u001b[0;34m(self, s, idx)\u001b[0m\n\u001b[1;32m    353\u001b[0m             \u001b[0mobj\u001b[0m\u001b[0;34m,\u001b[0m \u001b[0mend\u001b[0m \u001b[0;34m=\u001b[0m \u001b[0mself\u001b[0m\u001b[0;34m.\u001b[0m\u001b[0mscan_once\u001b[0m\u001b[0;34m(\u001b[0m\u001b[0ms\u001b[0m\u001b[0;34m,\u001b[0m \u001b[0midx\u001b[0m\u001b[0;34m)\u001b[0m\u001b[0;34m\u001b[0m\u001b[0;34m\u001b[0m\u001b[0m\n\u001b[1;32m    354\u001b[0m         \u001b[0;32mexcept\u001b[0m \u001b[0mStopIteration\u001b[0m \u001b[0;32mas\u001b[0m \u001b[0merr\u001b[0m\u001b[0;34m:\u001b[0m\u001b[0;34m\u001b[0m\u001b[0;34m\u001b[0m\u001b[0m\n\u001b[0;32m--> 355\u001b[0;31m             \u001b[0;32mraise\u001b[0m \u001b[0mJSONDecodeError\u001b[0m\u001b[0;34m(\u001b[0m\u001b[0;34m\"Expecting value\"\u001b[0m\u001b[0;34m,\u001b[0m \u001b[0ms\u001b[0m\u001b[0;34m,\u001b[0m \u001b[0merr\u001b[0m\u001b[0;34m.\u001b[0m\u001b[0mvalue\u001b[0m\u001b[0;34m)\u001b[0m \u001b[0;32mfrom\u001b[0m \u001b[0;32mNone\u001b[0m\u001b[0;34m\u001b[0m\u001b[0;34m\u001b[0m\u001b[0m\n\u001b[0m\u001b[1;32m    356\u001b[0m         \u001b[0;32mreturn\u001b[0m \u001b[0mobj\u001b[0m\u001b[0;34m,\u001b[0m \u001b[0mend\u001b[0m\u001b[0;34m\u001b[0m\u001b[0;34m\u001b[0m\u001b[0m\n",
            "\u001b[0;31mJSONDecodeError\u001b[0m: Expecting value: line 1 column 1 (char 0)"
          ]
        }
      ]
    },
    {
      "cell_type": "markdown",
      "metadata": {
        "id": "ZyyoHLalG2IV"
      },
      "source": [
        "先使用現有斷字程序取得資料並分析"
      ]
    },
    {
      "cell_type": "code",
      "metadata": {
        "id": "27Y9Kp0wFQEO"
      },
      "source": [
        "import jieba\n",
        "import jieba.analyse\n",
        "from collections import Counter\n",
        "jieba.set_dictionary('/content/dict.txt.big') \n",
        "with open('/content/Mstopwords.txt', 'r', encoding='utf8') as f:  # 中文的停用字，我也忘記從哪裡拿到的，效果還可以，繁體字的資源真的比較少，大家將就一下吧\n",
        "    stops = f.read().split('\\n') \n",
        "# print([t for t in jieba.cut('下雨天留客天留我不留')])\n",
        "# print([t for t in jieba.cut('下雨天留客天留我不留', cut_all=True)])\n",
        "# word = \"2012年我創立了一間公司 來教女孩寫程式\"\n",
        "# seg_list = jieba.cut(word, cut_all=True)\n",
        "# print(\"Full Mode: \" + \"/ \".join(seg_list)) \n",
        "# seg_list = jieba.cut_for_search(word)\n",
        "# print(\"Search Mode: \" + \"/ \".join(seg_list)) \n",
        "\n",
        "file1 = df['content'][0]\n",
        "text = re.sub(r'^https?:\\/\\/.*[\\r\\n]*', '', file1, flags=re.MULTILINE)\n",
        "terms = [t for t in jieba.cut(text, cut_all=True) if t not in stops]\n",
        "# sorted(Counter(terms).items(), key=lambda x:x[1], reverse=True)  ## 這個寫法很常出現在Ｃounter中，他可以排序，list每個item出現的次數。\n",
        "# tags = jieba.analyse.extract_tags(file, topK=5) \n",
        "# print(tags)\n",
        "OrigDict = {} "
      ],
      "execution_count": null,
      "outputs": []
    },
    {
      "cell_type": "code",
      "metadata": {
        "colab": {
          "base_uri": "https://localhost:8080/",
          "height": 232
        },
        "id": "QooAx7fUUBin",
        "outputId": "7f8aae6f-9298-475c-f29c-d0103077f691"
      },
      "source": [
        "for row in df:\n",
        "  content = re.sub(r'^https?:\\/\\/.*[\\r\\n]*', '', row['content'], flags=re.MULTILINE)\n",
        "  content = content.rstrip()\n",
        "  terms = [t for t in jieba.cut(text, cut_all=True) if t not in stops]\n",
        "  ExtraDict= Counter(terms)\n",
        "  comment1 = re.sub(r'^https?:\\/\\/.*[\\r\\n]*', '', row['content'], flags=re.MULTILINE)\n",
        "  commentC1 = content.rstrip()\n",
        "  termsC1 = [t for t in jieba.cut(commentC1, cut_all=True) if t not in stops]\n",
        "  comment2 = re.sub(r'^https?:\\/\\/.*[\\r\\n]*', '', row['content'], flags=re.MULTILINE)\n",
        "  commentC2 = comment2.rstrip()\n",
        "  ExtraDict= Counter(contentC2)\n",
        "  termsC2 = [t for t in jieba.cut(contentC2, cut_all=True) if t not in stops]\n",
        "  ExtraDict= Counter(terms)\n",
        "  OrigDict.update(ExtraDict)\n",
        "Daily_Collect = sorted(Counter(OrigDict).items(), key=lambda x:x[1], reverse=True)\n",
        "# https://www.geeksforgeeks.org/how-to-convert-python-dictionary-to-json/"
      ],
      "execution_count": null,
      "outputs": [
        {
          "output_type": "error",
          "ename": "TypeError",
          "evalue": "ignored",
          "traceback": [
            "\u001b[0;31m---------------------------------------------------------------------------\u001b[0m",
            "\u001b[0;31mTypeError\u001b[0m                                 Traceback (most recent call last)",
            "\u001b[0;32m<ipython-input-13-35fbf6069831>\u001b[0m in \u001b[0;36m<module>\u001b[0;34m()\u001b[0m\n\u001b[0;32m----> 1\u001b[0;31m \u001b[0;32mfor\u001b[0m \u001b[0mcontent\u001b[0m\u001b[0;34m[\u001b[0m\u001b[0;34m'content'\u001b[0m\u001b[0;34m]\u001b[0m \u001b[0;32min\u001b[0m \u001b[0mdf\u001b[0m\u001b[0;34m:\u001b[0m\u001b[0;34m\u001b[0m\u001b[0;34m\u001b[0m\u001b[0m\n\u001b[0m\u001b[1;32m      2\u001b[0m   \u001b[0mtext\u001b[0m \u001b[0;34m=\u001b[0m \u001b[0mre\u001b[0m\u001b[0;34m.\u001b[0m\u001b[0msub\u001b[0m\u001b[0;34m(\u001b[0m\u001b[0;34mr'^https?:\\/\\/.*[\\r\\n]*'\u001b[0m\u001b[0;34m,\u001b[0m \u001b[0;34m''\u001b[0m\u001b[0;34m,\u001b[0m \u001b[0mcontent\u001b[0m\u001b[0;34m,\u001b[0m \u001b[0mflags\u001b[0m\u001b[0;34m=\u001b[0m\u001b[0mre\u001b[0m\u001b[0;34m.\u001b[0m\u001b[0mMULTILINE\u001b[0m\u001b[0;34m)\u001b[0m\u001b[0;34m\u001b[0m\u001b[0;34m\u001b[0m\u001b[0m\n\u001b[1;32m      3\u001b[0m   \u001b[0mtext\u001b[0m \u001b[0;34m=\u001b[0m \u001b[0mtext\u001b[0m\u001b[0;34m.\u001b[0m\u001b[0mrstrip\u001b[0m\u001b[0;34m(\u001b[0m\u001b[0;34m)\u001b[0m\u001b[0;34m\u001b[0m\u001b[0;34m\u001b[0m\u001b[0m\n\u001b[1;32m      4\u001b[0m   \u001b[0mterms\u001b[0m \u001b[0;34m=\u001b[0m \u001b[0;34m[\u001b[0m\u001b[0mt\u001b[0m \u001b[0;32mfor\u001b[0m \u001b[0mt\u001b[0m \u001b[0;32min\u001b[0m \u001b[0mjieba\u001b[0m\u001b[0;34m.\u001b[0m\u001b[0mcut\u001b[0m\u001b[0;34m(\u001b[0m\u001b[0mtext\u001b[0m\u001b[0;34m,\u001b[0m \u001b[0mcut_all\u001b[0m\u001b[0;34m=\u001b[0m\u001b[0;32mTrue\u001b[0m\u001b[0;34m)\u001b[0m \u001b[0;32mif\u001b[0m \u001b[0mt\u001b[0m \u001b[0;32mnot\u001b[0m \u001b[0;32min\u001b[0m \u001b[0mstops\u001b[0m\u001b[0;34m]\u001b[0m\u001b[0;34m\u001b[0m\u001b[0;34m\u001b[0m\u001b[0m\n\u001b[1;32m      5\u001b[0m \u001b[0;34m\u001b[0m\u001b[0m\n",
            "\u001b[0;31mTypeError\u001b[0m: 'str' object does not support item assignment"
          ]
        }
      ]
    },
    {
      "cell_type": "markdown",
      "metadata": {
        "id": "jTOzvxR-DmVE"
      },
      "source": [
        "Jieba繁體中文分析測試"
      ]
    },
    {
      "cell_type": "code",
      "metadata": {
        "colab": {
          "base_uri": "https://localhost:8080/"
        },
        "id": "vOBK7OY6PZfs",
        "outputId": "ccaffb01-d48d-4e7d-8240-a2a37807cba5"
      },
      "source": [
        "#topK 為返回幾個TF/IDF 權重最大的關鍵詞，默認值為20\n",
        "text = '總統蔡英文論文風波延燒後，最新民調今日出爐！據親藍民調公布結果，蔡英文支持度45%，遙遙領先韓國瑜的33%，兩人差距擴大到12個百分點。顯示論文門風波，並未重創小英聲望。'\n",
        "tags = jieba.analyse.extract_tags(text, topK=5)  \n",
        "\n",
        "print(tags)"
      ],
      "execution_count": null,
      "outputs": [
        {
          "output_type": "stream",
          "text": [
            "['論文', '民調', '英文', '小英', '總統']\n"
          ],
          "name": "stdout"
        }
      ]
    },
    {
      "cell_type": "markdown",
      "metadata": {
        "id": "4T9ybUn3DvS0"
      },
      "source": [
        "中研院產ckiptagger 繁體中文語言分析"
      ]
    },
    {
      "cell_type": "code",
      "metadata": {
        "colab": {
          "base_uri": "https://localhost:8080/"
        },
        "id": "qC4lPj36IL8r",
        "outputId": "1dc55153-42d3-430f-e312-010a74b573f2"
      },
      "source": [
        "#中研院產 ji\n",
        "#!pip install ckiptagger"
      ],
      "execution_count": null,
      "outputs": [
        {
          "output_type": "stream",
          "text": [
            "Collecting ckiptagger\n",
            "  Downloading https://files.pythonhosted.org/packages/6b/bc/5cbf8d019167d5e5e1775069fb8b71a08691ab847e2926bbe7dee9a19010/ckiptagger-0.2.1-py3-none-any.whl\n",
            "Installing collected packages: ckiptagger\n",
            "Successfully installed ckiptagger-0.2.1\n"
          ],
          "name": "stdout"
        }
      ]
    },
    {
      "cell_type": "markdown",
      "metadata": {
        "id": "aiwE1wxNFg7t"
      },
      "source": [
        "自編停用詞簡易分析斷句與預選停用詞區\n",
        "\n",
        "蒐集部分先暫停，準備新的RNN區塊進行對比\n",
        "\n",
        "GNN https://shikhar-vashishth.github.io/assets/pdf/emnlp19_tutorial.pdf\n",
        "\n",
        "\n"
      ]
    },
    {
      "cell_type": "code",
      "metadata": {
        "id": "-6wCHjXYTDO5"
      },
      "source": [
        ""
      ],
      "execution_count": null,
      "outputs": []
    },
    {
      "cell_type": "code",
      "metadata": {
        "id": "_N28fwNDYkb8"
      },
      "source": [
        ""
      ],
      "execution_count": null,
      "outputs": []
    },
    {
      "cell_type": "code",
      "metadata": {
        "id": "4FWPuXPeTLIK"
      },
      "source": [
        ""
      ],
      "execution_count": null,
      "outputs": []
    },
    {
      "cell_type": "code",
      "metadata": {
        "id": "Pg-c9CuHXd6e"
      },
      "source": [
        ""
      ],
      "execution_count": null,
      "outputs": []
    },
    {
      "cell_type": "code",
      "metadata": {
        "id": "8vyBHIBAXgRY"
      },
      "source": [
        ""
      ],
      "execution_count": null,
      "outputs": []
    }
  ]
}